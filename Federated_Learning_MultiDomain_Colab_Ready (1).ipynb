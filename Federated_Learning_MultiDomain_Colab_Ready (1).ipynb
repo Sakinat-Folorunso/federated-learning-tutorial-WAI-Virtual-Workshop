{
  "cells": [
    {
      "cell_type": "code",
      "execution_count": null,
      "id": "150d710d",
      "metadata": {
        "id": "150d710d"
      },
      "outputs": [],
      "source": [
        "# 📒 Federated Learning with Multiple Realistic Datasets (Colab Notebook)"
      ]
    },
    {
      "cell_type": "code",
      "execution_count": null,
      "id": "0c6c2b06",
      "metadata": {
        "id": "0c6c2b06"
      },
      "outputs": [],
      "source": [
        "# This notebook supports dataset selection, federated training with Flower, global accuracy plotting, classification report, and confusion matrix evaluation."
      ]
    },
    {
      "cell_type": "code",
      "execution_count": null,
      "id": "e7df1e4f",
      "metadata": {
        "id": "e7df1e4f"
      },
      "outputs": [],
      "source": [
        "# Setup and Install Required Libraries"
      ]
    },
    {
      "cell_type": "code",
      "execution_count": 1,
      "id": "c6191065",
      "metadata": {
        "colab": {
          "base_uri": "https://localhost:8080/"
        },
        "id": "c6191065",
        "outputId": "c452c545-c4b9-44dc-e751-75a84b018d0e"
      },
      "outputs": [
        {
          "output_type": "stream",
          "name": "stdout",
          "text": [
            "\u001b[2K   \u001b[90m━━━━━━━━━━━━━━━━━━━━━━━━━━━━━━━━━━━━━━━━\u001b[0m \u001b[32m66.7/66.7 MB\u001b[0m \u001b[31m8.6 MB/s\u001b[0m eta \u001b[36m0:00:00\u001b[0m\n",
            "\u001b[2K   \u001b[90m━━━━━━━━━━━━━━━━━━━━━━━━━━━━━━━━━━━━━━━━\u001b[0m \u001b[32m98.2/98.2 kB\u001b[0m \u001b[31m4.3 MB/s\u001b[0m eta \u001b[36m0:00:00\u001b[0m\n",
            "\u001b[2K   \u001b[90m━━━━━━━━━━━━━━━━━━━━━━━━━━━━━━━━━━━━━━━━\u001b[0m \u001b[32m4.2/4.2 MB\u001b[0m \u001b[31m29.4 MB/s\u001b[0m eta \u001b[36m0:00:00\u001b[0m\n",
            "\u001b[2K   \u001b[90m━━━━━━━━━━━━━━━━━━━━━━━━━━━━━━━━━━━━━━━━\u001b[0m \u001b[32m294.9/294.9 kB\u001b[0m \u001b[31m14.9 MB/s\u001b[0m eta \u001b[36m0:00:00\u001b[0m\n",
            "\u001b[2K   \u001b[90m━━━━━━━━━━━━━━━━━━━━━━━━━━━━━━━━━━━━━━━━\u001b[0m \u001b[32m2.3/2.3 MB\u001b[0m \u001b[31m31.5 MB/s\u001b[0m eta \u001b[36m0:00:00\u001b[0m\n",
            "\u001b[2K   \u001b[90m━━━━━━━━━━━━━━━━━━━━━━━━━━━━━━━━━━━━━━━━\u001b[0m \u001b[32m236.0/236.0 kB\u001b[0m \u001b[31m9.2 MB/s\u001b[0m eta \u001b[36m0:00:00\u001b[0m\n",
            "\u001b[2K   \u001b[90m━━━━━━━━━━━━━━━━━━━━━━━━━━━━━━━━━━━━━━━━\u001b[0m \u001b[32m47.3/47.3 kB\u001b[0m \u001b[31m3.6 MB/s\u001b[0m eta \u001b[36m0:00:00\u001b[0m\n",
            "\u001b[2K   \u001b[90m━━━━━━━━━━━━━━━━━━━━━━━━━━━━━━━━━━━━━━━━\u001b[0m \u001b[32m598.1/598.1 kB\u001b[0m \u001b[31m17.6 MB/s\u001b[0m eta \u001b[36m0:00:00\u001b[0m\n",
            "\u001b[2K   \u001b[90m━━━━━━━━━━━━━━━━━━━━━━━━━━━━━━━━━━━━━━━━\u001b[0m \u001b[32m1.6/1.6 MB\u001b[0m \u001b[31m25.7 MB/s\u001b[0m eta \u001b[36m0:00:00\u001b[0m\n",
            "\u001b[?25h\u001b[31mERROR: pip's dependency resolver does not currently take into account all the packages that are installed. This behaviour is the source of the following dependency conflicts.\n",
            "grpcio-status 1.71.2 requires protobuf<6.0dev,>=5.26.1, but you have protobuf 4.25.8 which is incompatible.\n",
            "pyopenssl 24.2.1 requires cryptography<44,>=41.0.5, but you have cryptography 44.0.3 which is incompatible.\n",
            "pydrive2 1.21.3 requires cryptography<44, but you have cryptography 44.0.3 which is incompatible.\n",
            "ydf 0.13.0 requires protobuf<7.0.0,>=5.29.1, but you have protobuf 4.25.8 which is incompatible.\u001b[0m\u001b[31m\n",
            "\u001b[0m"
          ]
        }
      ],
      "source": [
        "!pip install -q flwr[simulation] pandas matplotlib scikit-learn tensorflow ipywidgets seaborn"
      ]
    },
    {
      "cell_type": "code",
      "execution_count": 2,
      "id": "815f9062",
      "metadata": {
        "id": "815f9062"
      },
      "outputs": [],
      "source": [
        "import pandas as pd\n",
        "import numpy as np\n",
        "import tensorflow as tf\n",
        "import flwr as fl\n",
        "import matplotlib.pyplot as plt\n",
        "import seaborn as sns\n",
        "from sklearn.model_selection import train_test_split\n",
        "from sklearn.metrics import accuracy_score, classification_report, confusion_matrix\n",
        "import ipywidgets as widgets\n",
        "from IPython.display import display"
      ]
    },
    {
      "cell_type": "code",
      "execution_count": null,
      "id": "ec486b7a",
      "metadata": {
        "id": "ec486b7a"
      },
      "outputs": [],
      "source": [
        "# Load Dataset using Interactive Widget"
      ]
    },
    {
      "cell_type": "code",
      "execution_count": 20,
      "id": "dd5b6436",
      "metadata": {
        "colab": {
          "base_uri": "https://localhost:8080/",
          "height": 49,
          "referenced_widgets": [
            "712620594c714e4da1e62337f1a74504",
            "100bc72d9db04ea2ae449944cad1bcd8",
            "b69b06e64a16424f9780b2648f7b339f"
          ]
        },
        "id": "dd5b6436",
        "outputId": "301bc5e2-0fab-4d72-e796-22e642c454ec"
      },
      "outputs": [
        {
          "output_type": "display_data",
          "data": {
            "text/plain": [
              "Dropdown(description='Dataset:', index=1, options=(('Malaria', 'https://raw.githubusercontent.com/Sakinat-Folo…"
            ],
            "application/vnd.jupyter.widget-view+json": {
              "version_major": 2,
              "version_minor": 0,
              "model_id": "712620594c714e4da1e62337f1a74504"
            }
          },
          "metadata": {}
        }
      ],
      "source": [
        "dataset_widget = widgets.Dropdown(\n",
        "    options={\n",
        "        'Malaria': 'https://raw.githubusercontent.com/Sakinat-Folorunso/federated-learning-tutorial-WAI-Virtual-Workshop/main/Federated_malaria_dataset.csv',\n",
        "        'Finance': 'https://raw.githubusercontent.com/Sakinat-Folorunso/federated-learning-tutorial-WAI-Virtual-Workshop/main/federated_finance_expanded.csv',\n",
        "        'Healthcare': 'https://raw.githubusercontent.com/Sakinat-Folorunso/federated-learning-tutorial-WAI-Virtual-Workshop/main/federated_healthcare_expanded.csv',\n",
        "        'IoT': 'https://raw.githubusercontent.com/Sakinat-Folorunso/federated-learning-tutorial-WAI-Virtual-Workshop/main/federated_iot_expanded.csv'\n",
        "    },\n",
        "    value='https://raw.githubusercontent.com/Sakinat-Folorunso/federated-learning-tutorial-WAI-Virtual-Workshop/main/Federated_malaria_dataset.csv',\n",
        "    description='Dataset:'\n",
        ")\n",
        "display(dataset_widget)"
      ]
    },
    {
      "cell_type": "code",
      "execution_count": 21,
      "id": "d04d107c",
      "metadata": {
        "colab": {
          "base_uri": "https://localhost:8080/",
          "height": 272
        },
        "id": "d04d107c",
        "outputId": "a9c7c42d-4eca-4741-b6fe-e0a6077d586c"
      },
      "outputs": [
        {
          "output_type": "execute_result",
          "data": {
            "text/plain": [
              "client_id\n",
              "Bank_A    2000\n",
              "Bank_B    2000\n",
              "Bank_C    2000\n",
              "Bank_D    2000\n",
              "Bank_E    2000\n",
              "Name: count, dtype: int64"
            ],
            "text/html": [
              "<div>\n",
              "<style scoped>\n",
              "    .dataframe tbody tr th:only-of-type {\n",
              "        vertical-align: middle;\n",
              "    }\n",
              "\n",
              "    .dataframe tbody tr th {\n",
              "        vertical-align: top;\n",
              "    }\n",
              "\n",
              "    .dataframe thead th {\n",
              "        text-align: right;\n",
              "    }\n",
              "</style>\n",
              "<table border=\"1\" class=\"dataframe\">\n",
              "  <thead>\n",
              "    <tr style=\"text-align: right;\">\n",
              "      <th></th>\n",
              "      <th>count</th>\n",
              "    </tr>\n",
              "    <tr>\n",
              "      <th>client_id</th>\n",
              "      <th></th>\n",
              "    </tr>\n",
              "  </thead>\n",
              "  <tbody>\n",
              "    <tr>\n",
              "      <th>Bank_A</th>\n",
              "      <td>2000</td>\n",
              "    </tr>\n",
              "    <tr>\n",
              "      <th>Bank_B</th>\n",
              "      <td>2000</td>\n",
              "    </tr>\n",
              "    <tr>\n",
              "      <th>Bank_C</th>\n",
              "      <td>2000</td>\n",
              "    </tr>\n",
              "    <tr>\n",
              "      <th>Bank_D</th>\n",
              "      <td>2000</td>\n",
              "    </tr>\n",
              "    <tr>\n",
              "      <th>Bank_E</th>\n",
              "      <td>2000</td>\n",
              "    </tr>\n",
              "  </tbody>\n",
              "</table>\n",
              "</div><br><label><b>dtype:</b> int64</label>"
            ]
          },
          "metadata": {},
          "execution_count": 21
        }
      ],
      "source": [
        "df = pd.read_csv(dataset_widget.value)\n",
        "df.head()\n",
        "df['client_id'].value_counts()"
      ]
    },
    {
      "cell_type": "code",
      "execution_count": null,
      "id": "0f57406f",
      "metadata": {
        "id": "0f57406f"
      },
      "outputs": [],
      "source": [
        "# Class Distribution Plot"
      ]
    },
    {
      "cell_type": "code",
      "execution_count": 22,
      "id": "436d41c7",
      "metadata": {
        "id": "436d41c7"
      },
      "outputs": [],
      "source": [
        "if 'Loan_Default' in df.columns:\n",
        "    target_col = 'Loan_Default'\n",
        "elif 'Disease_Diagnosis' in df.columns:\n",
        "    target_col = 'Disease_Diagnosis'\n",
        "elif 'Failure' in df.columns:\n",
        "    target_col = 'Failure'\n",
        "else:\n",
        "    target_col = df.columns[-1]"
      ]
    },
    {
      "cell_type": "code",
      "execution_count": 23,
      "id": "79a939e8",
      "metadata": {
        "colab": {
          "base_uri": "https://localhost:8080/",
          "height": 328
        },
        "id": "79a939e8",
        "outputId": "102497a9-23e2-48a5-827f-913f13b7921e"
      },
      "outputs": [
        {
          "output_type": "display_data",
          "data": {
            "text/plain": [
              "<Figure size 500x300 with 1 Axes>"
            ],
            "image/png": "[encoded data removed]"
          },
          "metadata": {}
        }
      ],
      "source": [
        "plt.figure(figsize=(5,3))\n",
        "df[target_col].value_counts().plot(kind='bar', color=['skyblue', 'salmon'])\n",
        "plt.title(f\"{target_col} Class Distribution\")\n",
        "plt.xlabel(target_col)\n",
        "plt.ylabel(\"Count\")\n",
        "plt.show()"
      ]
    },
    {
      "cell_type": "code",
      "execution_count": null,
      "id": "1e5665e6",
      "metadata": {
        "id": "1e5665e6"
      },
      "outputs": [],
      "source": [
        "# Split Data per Client"
      ]
    },
    {
      "cell_type": "code",
      "execution_count": 24,
      "id": "6382d6ed",
      "metadata": {
        "id": "6382d6ed"
      },
      "outputs": [],
      "source": [
        "feature_cols = [col for col in df.columns if col not in ['client_id', target_col]]\n",
        "label_col = target_col"
      ]
    },
    {
      "cell_type": "code",
      "execution_count": 25,
      "id": "59f7eec7",
      "metadata": {
        "id": "59f7eec7"
      },
      "outputs": [],
      "source": [
        "client_ids = df['client_id'].unique()\n",
        "client_train_data, client_test_data = {}, {}"
      ]
    },
    {
      "cell_type": "code",
      "execution_count": 26,
      "id": "05a390e6",
      "metadata": {
        "id": "05a390e6"
      },
      "outputs": [],
      "source": [
        "for cid in client_ids:\n",
        "    df_c = df[df.client_id == cid]\n",
        "    X = df_c[feature_cols].values.astype(np.float32)\n",
        "    y = df_c[label_col].values.astype(np.int32)\n",
        "    X_train, X_test, y_train, y_test = train_test_split(\n",
        "        X, y, test_size=0.2, stratify=y, random_state=42\n",
        "    )\n",
        "    client_train_data[cid] = (X_train, y_train)\n",
        "    client_test_data[cid] = (X_test, y_test)"
      ]
    },
    {
      "cell_type": "code",
      "execution_count": null,
      "id": "cae70868",
      "metadata": {
        "id": "cae70868"
      },
      "outputs": [],
      "source": [
        "# Define Neural Network"
      ]
    },
    {
      "cell_type": "code",
      "execution_count": 27,
      "id": "a6cae966",
      "metadata": {
        "id": "a6cae966"
      },
      "outputs": [],
      "source": [
        "def build_model(input_shape):\n",
        "    model = tf.keras.Sequential([\n",
        "        tf.keras.layers.InputLayer(input_shape=input_shape),\n",
        "        tf.keras.layers.Dense(64, activation='relu'),\n",
        "        tf.keras.layers.Dense(32, activation='relu'),\n",
        "        tf.keras.layers.Dense(1, activation='sigmoid')\n",
        "    ])\n",
        "    model.compile(optimizer='adam', loss='binary_crossentropy', metrics=['accuracy'])\n",
        "    return model"
      ]
    },
    {
      "cell_type": "code",
      "execution_count": null,
      "id": "cae98c44",
      "metadata": {
        "id": "cae98c44"
      },
      "outputs": [],
      "source": [
        "# Federated Learning Client"
      ]
    },
    {
      "cell_type": "code",
      "execution_count": 28,
      "id": "8ae7249e",
      "metadata": {
        "id": "8ae7249e"
      },
      "outputs": [],
      "source": [
        "class FederatedClient(fl.client.NumPyClient):\n",
        "    def __init__(self, cid):\n",
        "        self.client_label = cid\n",
        "        self.model = build_model(input_shape=(len(feature_cols),))\n",
        "        self.X_train, self.y_train = client_train_data[cid]\n",
        "        self.X_test, self.y_test = client_test_data[cid]"
      ]
    },
    {
      "cell_type": "code",
      "execution_count": 29,
      "id": "fae4a4e3",
      "metadata": {
        "id": "fae4a4e3"
      },
      "outputs": [],
      "source": [
        "def get_parameters(self):\n",
        "        return self.model.get_weights()"
      ]
    },
    {
      "cell_type": "code",
      "execution_count": 30,
      "id": "5cc39789",
      "metadata": {
        "id": "5cc39789"
      },
      "outputs": [],
      "source": [
        "def fit(self, parameters, config):\n",
        "        self.model.set_weights(parameters)\n",
        "        self.model.fit(self.X_train, self.y_train, epochs=1, batch_size=16, verbose=0)\n",
        "        return self.model.get_weights(), len(self.X_train), {}"
      ]
    },
    {
      "cell_type": "code",
      "execution_count": null,
      "id": "858095e2",
      "metadata": {
        "id": "858095e2"
      },
      "outputs": [],
      "source": [
        "def evaluate(self, parameters, config):\n",
        "        self.model.set_weights(parameters)\n",
        "        loss, acc = self.model.evaluate(self.X_test, self.y_test, verbose=0)\n",
        "        return loss, len(self.X_test), {\"accuracy\": acc}"
      ]
    },
    {
      "cell_type": "code",
      "execution_count": 31,
      "id": "721ef32d",
      "metadata": {
        "id": "721ef32d"
      },
      "outputs": [],
      "source": [
        "# Run Federated Simulation"
      ]
    },
    {
      "cell_type": "code",
      "execution_count": 32,
      "id": "de783948",
      "metadata": {
        "id": "de783948"
      },
      "outputs": [],
      "source": [
        "strategy = fl.server.strategy.FedAvg()"
      ]
    },
    {
      "cell_type": "code",
      "execution_count": 38,
      "id": "5dfa52ae",
      "metadata": {
        "colab": {
          "base_uri": "https://localhost:8080/",
          "height": 1000
        },
        "id": "5dfa52ae",
        "outputId": "07a2bec8-05fa-4271-9703-e15bbeb07a51"
      },
      "outputs": [
        {
          "output_type": "stream",
          "name": "stderr",
          "text": [
            "\u001b[93mWARNING \u001b[0m:   DEPRECATED FEATURE: flwr.simulation.start_simulation() is deprecated.\n",
            "\tInstead, use the `flwr run` CLI command to start a local simulation in your Flower app, as shown for example below:\n",
            "\n",
            "\t\t$ flwr new  # Create a new Flower app from a template\n",
            "\n",
            "\t\t$ flwr run  # Run the Flower app in Simulation Mode\n",
            "\n",
            "\tUsing `start_simulation()` is deprecated.\n",
            "\n",
            "            This is a deprecated feature. It will be removed\n",
            "            entirely in future versions of Flower.\n",
            "        \n",
            "\u001b[92mINFO \u001b[0m:      Starting Flower simulation, config: num_rounds=5, no round_timeout\n",
            "2025-07-22 11:19:26,080\tINFO worker.py:1771 -- Started a local Ray instance.\n",
            "\u001b[92mINFO \u001b[0m:      Flower VCE: Ray initialized with resources: {'CPU': 2.0, 'object_store_memory': 3982006272.0, 'node:172.28.0.12': 1.0, 'node:__internal_head__': 1.0, 'memory': 7964012544.0}\n",
            "\u001b[92mINFO \u001b[0m:      Optimize your simulation with Flower VCE: https://flower.ai/docs/framework/how-to-run-simulations.html\n",
            "\u001b[92mINFO \u001b[0m:      No `client_resources` specified. Using minimal resources for clients.\n",
            "\u001b[92mINFO \u001b[0m:      Flower VCE: Resources for each Virtual Client: {'num_cpus': 1, 'num_gpus': 0.0}\n",
            "\u001b[92mINFO \u001b[0m:      Flower VCE: Creating VirtualClientEngineActorPool with 2 actors\n",
            "\u001b[92mINFO \u001b[0m:      [INIT]\n",
            "\u001b[92mINFO \u001b[0m:      Requesting initial parameters from one random client\n",
            "\u001b[36m(pid=6206)\u001b[0m 2025-07-22 11:19:31.279654: E external/local_xla/xla/stream_executor/cuda/cuda_fft.cc:477] Unable to register cuFFT factory: Attempting to register factory for plugin cuFFT when one has already been registered\n",
            "\u001b[36m(pid=6206)\u001b[0m WARNING: All log messages before absl::InitializeLog() is called are written to STDERR\n",
            "\u001b[36m(pid=6206)\u001b[0m E0000 00:00:1753183171.325116    6206 cuda_dnn.cc:8310] Unable to register cuDNN factory: Attempting to register factory for plugin cuDNN when one has already been registered\n",
            "\u001b[36m(pid=6206)\u001b[0m E0000 00:00:1753183171.337596    6206 cuda_blas.cc:1418] Unable to register cuBLAS factory: Attempting to register factory for plugin cuBLAS when one has already been registered\n",
            "\u001b[91mERROR \u001b[0m:     Traceback (most recent call last):\n",
            "  File \"/usr/local/lib/python3.11/dist-packages/flwr/simulation/ray_transport/ray_client_proxy.py\", line 95, in _submit_job\n",
            "    out_mssg, updated_context = self.actor_pool.get_client_result(\n",
            "                                ^^^^^^^^^^^^^^^^^^^^^^^^^^^^^^^^^^\n",
            "  File \"/usr/local/lib/python3.11/dist-packages/flwr/simulation/ray_transport/ray_actor.py\", line 401, in get_client_result\n",
            "    return self._fetch_future_result(cid)\n",
            "           ^^^^^^^^^^^^^^^^^^^^^^^^^^^^^^\n",
            "  File \"/usr/local/lib/python3.11/dist-packages/flwr/simulation/ray_transport/ray_actor.py\", line 282, in _fetch_future_result\n",
            "    res_cid, out_mssg, updated_context = ray.get(\n",
            "                                         ^^^^^^^^\n",
            "  File \"/usr/local/lib/python3.11/dist-packages/ray/_private/auto_init_hook.py\", line 21, in auto_init_wrapper\n",
            "    return fn(*args, **kwargs)\n",
            "           ^^^^^^^^^^^^^^^^^^^\n",
            "  File \"/usr/local/lib/python3.11/dist-packages/ray/_private/client_mode_hook.py\", line 103, in wrapper\n",
            "    return func(*args, **kwargs)\n",
            "           ^^^^^^^^^^^^^^^^^^^^^\n",
            "  File \"/usr/local/lib/python3.11/dist-packages/ray/_private/worker.py\", line 2639, in get\n",
            "    values, debugger_breakpoint = worker.get_objects(object_refs, timeout=timeout)\n",
            "                                  ^^^^^^^^^^^^^^^^^^^^^^^^^^^^^^^^^^^^^^^^^^^^^^^^\n",
            "  File \"/usr/local/lib/python3.11/dist-packages/ray/_private/worker.py\", line 864, in get_objects\n",
            "    raise value.as_instanceof_cause()\n",
            "ray.exceptions.RayTaskError(ClientAppException): \u001b[36mray::ClientAppActor.run()\u001b[39m (pid=6207, ip=172.28.0.12, actor_id=576ab0c21f20aa6b7d57e49701000000, repr=<flwr.simulation.ray_transport.ray_actor.ClientAppActor object at 0x780ddb0a55d0>)\n",
            "                  ^^^^^^^^^^^^^^^^^^^^^^^^^^^^^^^^^^^^^\n",
            "  File \"/usr/local/lib/python3.11/dist-packages/flwr/client/client_app.py\", line 144, in __call__\n",
            "    return self._call(message, context)\n",
            "           ^^^^^^^^^^^^^^^^^^^^^^^^^^^^\n",
            "  File \"/usr/local/lib/python3.11/dist-packages/flwr/client/client_app.py\", line 128, in ffn\n",
            "    out_message = handle_legacy_message_from_msgtype(\n",
            "                  ^^^^^^^^^^^^^^^^^^^^^^^^^^^^^^^^^^^\n",
            "  File \"/usr/local/lib/python3.11/dist-packages/flwr/client/message_handler/message_handler.py\", line 96, in handle_legacy_message_from_msgtype\n",
            "    client = client_fn(context)\n",
            "             ^^^^^^^^^^^^^^^^^^\n",
            "  File \"/tmp/ipython-input-38-1176517585.py\", line 7, in <lambda>\n",
            "AttributeError: 'Context' object has no attribute 'args'\n",
            "\n",
            "The above exception was the direct cause of the following exception:\n",
            "\n",
            "\u001b[36mray::ClientAppActor.run()\u001b[39m (pid=6207, ip=172.28.0.12, actor_id=576ab0c21f20aa6b7d57e49701000000, repr=<flwr.simulation.ray_transport.ray_actor.ClientAppActor object at 0x780ddb0a55d0>)\n",
            "           ^^^^^^^^^^^^^^^^^^^^^^^^^^^^^^^^^^^^\n",
            "           ^^^^^^^^^^^^^^^^^^^^^^^^^^^^^^^\n",
            "  File \"/usr/local/lib/python3.11/dist-packages/flwr/simulation/ray_transport/ray_actor.py\", line 64, in run\n",
            "    raise ClientAppException(str(ex)) from ex\n",
            "flwr.client.client_app.ClientAppException: \n",
            "Exception ClientAppException occurred. Message: 'Context' object has no attribute 'args'\n",
            "\n",
            "\u001b[91mERROR \u001b[0m:     \u001b[36mray::ClientAppActor.run()\u001b[39m (pid=6207, ip=172.28.0.12, actor_id=576ab0c21f20aa6b7d57e49701000000, repr=<flwr.simulation.ray_transport.ray_actor.ClientAppActor object at 0x780ddb0a55d0>)\n",
            "                  ^^^^^^^^^^^^^^^^^^^^^^^^^^^^^^^^^^^^^\n",
            "  File \"/usr/local/lib/python3.11/dist-packages/flwr/client/client_app.py\", line 144, in __call__\n",
            "    return self._call(message, context)\n",
            "           ^^^^^^^^^^^^^^^^^^^^^^^^^^^^\n",
            "  File \"/usr/local/lib/python3.11/dist-packages/flwr/client/client_app.py\", line 128, in ffn\n",
            "    out_message = handle_legacy_message_from_msgtype(\n",
            "                  ^^^^^^^^^^^^^^^^^^^^^^^^^^^^^^^^^^^\n",
            "  File \"/usr/local/lib/python3.11/dist-packages/flwr/client/message_handler/message_handler.py\", line 96, in handle_legacy_message_from_msgtype\n",
            "    client = client_fn(context)\n",
            "             ^^^^^^^^^^^^^^^^^^\n",
            "  File \"/tmp/ipython-input-38-1176517585.py\", line 7, in <lambda>\n",
            "AttributeError: 'Context' object has no attribute 'args'\n",
            "\n",
            "The above exception was the direct cause of the following exception:\n",
            "\n",
            "\u001b[36mray::ClientAppActor.run()\u001b[39m (pid=6207, ip=172.28.0.12, actor_id=576ab0c21f20aa6b7d57e49701000000, repr=<flwr.simulation.ray_transport.ray_actor.ClientAppActor object at 0x780ddb0a55d0>)\n",
            "           ^^^^^^^^^^^^^^^^^^^^^^^^^^^^^^^^^^^^\n",
            "           ^^^^^^^^^^^^^^^^^^^^^^^^^^^^^^^\n",
            "  File \"/usr/local/lib/python3.11/dist-packages/flwr/simulation/ray_transport/ray_actor.py\", line 64, in run\n",
            "    raise ClientAppException(str(ex)) from ex\n",
            "flwr.client.client_app.ClientAppException: \n",
            "Exception ClientAppException occurred. Message: 'Context' object has no attribute 'args'\n",
            "\u001b[91mERROR \u001b[0m:     \u001b[36mray::ClientAppActor.run()\u001b[39m (pid=6207, ip=172.28.0.12, actor_id=576ab0c21f20aa6b7d57e49701000000, repr=<flwr.simulation.ray_transport.ray_actor.ClientAppActor object at 0x780ddb0a55d0>)\n",
            "                  ^^^^^^^^^^^^^^^^^^^^^^^^^^^^^^^^^^^^^\n",
            "  File \"/usr/local/lib/python3.11/dist-packages/flwr/client/client_app.py\", line 144, in __call__\n",
            "    return self._call(message, context)\n",
            "           ^^^^^^^^^^^^^^^^^^^^^^^^^^^^\n",
            "  File \"/usr/local/lib/python3.11/dist-packages/flwr/client/client_app.py\", line 128, in ffn\n",
            "    out_message = handle_legacy_message_from_msgtype(\n",
            "                  ^^^^^^^^^^^^^^^^^^^^^^^^^^^^^^^^^^^\n",
            "  File \"/usr/local/lib/python3.11/dist-packages/flwr/client/message_handler/message_handler.py\", line 96, in handle_legacy_message_from_msgtype\n",
            "    client = client_fn(context)\n",
            "             ^^^^^^^^^^^^^^^^^^\n",
            "  File \"/tmp/ipython-input-38-1176517585.py\", line 7, in <lambda>\n",
            "AttributeError: 'Context' object has no attribute 'args'\n",
            "\n",
            "The above exception was the direct cause of the following exception:\n",
            "\n",
            "\u001b[36mray::ClientAppActor.run()\u001b[39m (pid=6207, ip=172.28.0.12, actor_id=576ab0c21f20aa6b7d57e49701000000, repr=<flwr.simulation.ray_transport.ray_actor.ClientAppActor object at 0x780ddb0a55d0>)\n",
            "           ^^^^^^^^^^^^^^^^^^^^^^^^^^^^^^^^^^^^\n",
            "           ^^^^^^^^^^^^^^^^^^^^^^^^^^^^^^^\n",
            "  File \"/usr/local/lib/python3.11/dist-packages/flwr/simulation/ray_transport/ray_actor.py\", line 64, in run\n",
            "    raise ClientAppException(str(ex)) from ex\n",
            "flwr.client.client_app.ClientAppException: \n",
            "Exception ClientAppException occurred. Message: 'Context' object has no attribute 'args'\n",
            "\u001b[91mERROR \u001b[0m:     Traceback (most recent call last):\n",
            "  File \"/usr/local/lib/python3.11/dist-packages/flwr/simulation/legacy_app.py\", line 361, in start_simulation\n",
            "    hist = run_fl(\n",
            "           ^^^^^^^\n",
            "  File \"/usr/local/lib/python3.11/dist-packages/flwr/server/server.py\", line 492, in run_fl\n",
            "    hist, elapsed_time = server.fit(\n",
            "                         ^^^^^^^^^^^\n",
            "  File \"/usr/local/lib/python3.11/dist-packages/flwr/server/server.py\", line 93, in fit\n",
            "    self.parameters = self._get_initial_parameters(server_round=0, timeout=timeout)\n",
            "                      ^^^^^^^^^^^^^^^^^^^^^^^^^^^^^^^^^^^^^^^^^^^^^^^^^^^^^^^^^^^^^\n",
            "  File \"/usr/local/lib/python3.11/dist-packages/flwr/server/server.py\", line 284, in _get_initial_parameters\n",
            "    get_parameters_res = random_client.get_parameters(\n",
            "                         ^^^^^^^^^^^^^^^^^^^^^^^^^^^^^\n",
            "  File \"/usr/local/lib/python3.11/dist-packages/flwr/simulation/ray_transport/ray_client_proxy.py\", line 170, in get_parameters\n",
            "    message_out = self._submit_job(message, timeout)\n",
            "                  ^^^^^^^^^^^^^^^^^^^^^^^^^^^^^^^^^^\n",
            "  File \"/usr/local/lib/python3.11/dist-packages/flwr/simulation/ray_transport/ray_client_proxy.py\", line 109, in _submit_job\n",
            "    raise ex\n",
            "  File \"/usr/local/lib/python3.11/dist-packages/flwr/simulation/ray_transport/ray_client_proxy.py\", line 95, in _submit_job\n",
            "    out_mssg, updated_context = self.actor_pool.get_client_result(\n",
            "                                ^^^^^^^^^^^^^^^^^^^^^^^^^^^^^^^^^^\n",
            "  File \"/usr/local/lib/python3.11/dist-packages/flwr/simulation/ray_transport/ray_actor.py\", line 401, in get_client_result\n",
            "    return self._fetch_future_result(cid)\n",
            "           ^^^^^^^^^^^^^^^^^^^^^^^^^^^^^^\n",
            "  File \"/usr/local/lib/python3.11/dist-packages/flwr/simulation/ray_transport/ray_actor.py\", line 282, in _fetch_future_result\n",
            "    res_cid, out_mssg, updated_context = ray.get(\n",
            "                                         ^^^^^^^^\n",
            "  File \"/usr/local/lib/python3.11/dist-packages/ray/_private/auto_init_hook.py\", line 21, in auto_init_wrapper\n",
            "    return fn(*args, **kwargs)\n",
            "           ^^^^^^^^^^^^^^^^^^^\n",
            "  File \"/usr/local/lib/python3.11/dist-packages/ray/_private/client_mode_hook.py\", line 103, in wrapper\n",
            "    return func(*args, **kwargs)\n",
            "           ^^^^^^^^^^^^^^^^^^^^^\n",
            "  File \"/usr/local/lib/python3.11/dist-packages/ray/_private/worker.py\", line 2639, in get\n",
            "    values, debugger_breakpoint = worker.get_objects(object_refs, timeout=timeout)\n",
            "                                  ^^^^^^^^^^^^^^^^^^^^^^^^^^^^^^^^^^^^^^^^^^^^^^^^\n",
            "  File \"/usr/local/lib/python3.11/dist-packages/ray/_private/worker.py\", line 864, in get_objects\n",
            "    raise value.as_instanceof_cause()\n",
            "ray.exceptions.RayTaskError(ClientAppException): \u001b[36mray::ClientAppActor.run()\u001b[39m (pid=6207, ip=172.28.0.12, actor_id=576ab0c21f20aa6b7d57e49701000000, repr=<flwr.simulation.ray_transport.ray_actor.ClientAppActor object at 0x780ddb0a55d0>)\n",
            "                  ^^^^^^^^^^^^^^^^^^^^^^^^^^^^^^^^^^^^^\n",
            "  File \"/usr/local/lib/python3.11/dist-packages/flwr/client/client_app.py\", line 144, in __call__\n",
            "    return self._call(message, context)\n",
            "           ^^^^^^^^^^^^^^^^^^^^^^^^^^^^\n",
            "  File \"/usr/local/lib/python3.11/dist-packages/flwr/client/client_app.py\", line 128, in ffn\n",
            "    out_message = handle_legacy_message_from_msgtype(\n",
            "                  ^^^^^^^^^^^^^^^^^^^^^^^^^^^^^^^^^^^\n",
            "  File \"/usr/local/lib/python3.11/dist-packages/flwr/client/message_handler/message_handler.py\", line 96, in handle_legacy_message_from_msgtype\n",
            "    client = client_fn(context)\n",
            "             ^^^^^^^^^^^^^^^^^^\n",
            "  File \"/tmp/ipython-input-38-1176517585.py\", line 7, in <lambda>\n",
            "AttributeError: 'Context' object has no attribute 'args'\n",
            "\n",
            "The above exception was the direct cause of the following exception:\n",
            "\n",
            "\u001b[36mray::ClientAppActor.run()\u001b[39m (pid=6207, ip=172.28.0.12, actor_id=576ab0c21f20aa6b7d57e49701000000, repr=<flwr.simulation.ray_transport.ray_actor.ClientAppActor object at 0x780ddb0a55d0>)\n",
            "           ^^^^^^^^^^^^^^^^^^^^^^^^^^^^^^^^^^^^\n",
            "           ^^^^^^^^^^^^^^^^^^^^^^^^^^^^^^^\n",
            "  File \"/usr/local/lib/python3.11/dist-packages/flwr/simulation/ray_transport/ray_actor.py\", line 64, in run\n",
            "    raise ClientAppException(str(ex)) from ex\n",
            "flwr.client.client_app.ClientAppException: \n",
            "Exception ClientAppException occurred. Message: 'Context' object has no attribute 'args'\n",
            "\n",
            "\u001b[91mERROR \u001b[0m:     Your simulation crashed :(. This could be because of several reasons. The most common are: \n",
            "\t > Sometimes, issues in the simulation code itself can cause crashes. It's always a good idea to double-check your code for any potential bugs or inconsistencies that might be contributing to the problem. For example: \n",
            "\t\t - You might be using a class attribute in your clients that hasn't been defined.\n",
            "\t\t - There could be an incorrect method call to a 3rd party library (e.g., PyTorch).\n",
            "\t\t - The return types of methods in your clients/strategies might be incorrect.\n",
            "\t > Your system couldn't fit a single VirtualClient: try lowering `client_resources`.\n",
            "\t > All the actors in your pool crashed. This could be because: \n",
            "\t\t - You clients hit an out-of-memory (OOM) error and actors couldn't recover from it. Try launching your simulation with more generous `client_resources` setting (i.e. it seems {'num_cpus': 1, 'num_gpus': 0.0} is not enough for your run). Use fewer concurrent actors. \n",
            "\t\t - You were running a multi-node simulation and all worker nodes disconnected. The head node might still be alive but cannot accommodate any actor with resources: {'num_cpus': 1, 'num_gpus': 0.0}.\n",
            "Take a look at the Flower simulation examples for guidance <https://flower.ai/docs/framework/how-to-run-simulations.html>.\n"
          ]
        },
        {
          "output_type": "error",
          "ename": "RuntimeError",
          "evalue": "Simulation crashed.",
          "traceback": [
            "\u001b[0;31m---------------------------------------------------------------------------\u001b[0m",
            "\u001b[0;31mRayTaskError(ClientAppException)\u001b[0m          Traceback (most recent call last)",
            "\u001b[0;32m/usr/local/lib/python3.11/dist-packages/flwr/simulation/legacy_app.py\u001b[0m in \u001b[0;36mstart_simulation\u001b[0;34m(client_fn, num_clients, clients_ids, client_resources, server, config, strategy, client_manager, ray_init_args, keep_initialised, actor_type, actor_kwargs, actor_scheduling)\u001b[0m\n\u001b[1;32m    360\u001b[0m         \u001b[0;31m# Start training\u001b[0m\u001b[0;34m\u001b[0m\u001b[0;34m\u001b[0m\u001b[0m\n\u001b[0;32m--> 361\u001b[0;31m         hist = run_fl(\n\u001b[0m\u001b[1;32m    362\u001b[0m             \u001b[0mserver\u001b[0m\u001b[0;34m=\u001b[0m\u001b[0minitialized_server\u001b[0m\u001b[0;34m,\u001b[0m\u001b[0;34m\u001b[0m\u001b[0;34m\u001b[0m\u001b[0m\n",
            "\u001b[0;32m/usr/local/lib/python3.11/dist-packages/flwr/server/server.py\u001b[0m in \u001b[0;36mrun_fl\u001b[0;34m(server, config)\u001b[0m\n\u001b[1;32m    491\u001b[0m     \u001b[0;34m\"\"\"Train a model on the given server and return the History object.\"\"\"\u001b[0m\u001b[0;34m\u001b[0m\u001b[0;34m\u001b[0m\u001b[0m\n\u001b[0;32m--> 492\u001b[0;31m     hist, elapsed_time = server.fit(\n\u001b[0m\u001b[1;32m    493\u001b[0m         \u001b[0mnum_rounds\u001b[0m\u001b[0;34m=\u001b[0m\u001b[0mconfig\u001b[0m\u001b[0;34m.\u001b[0m\u001b[0mnum_rounds\u001b[0m\u001b[0;34m,\u001b[0m \u001b[0mtimeout\u001b[0m\u001b[0;34m=\u001b[0m\u001b[0mconfig\u001b[0m\u001b[0;34m.\u001b[0m\u001b[0mround_timeout\u001b[0m\u001b[0;34m\u001b[0m\u001b[0;34m\u001b[0m\u001b[0m\n",
            "\u001b[0;32m/usr/local/lib/python3.11/dist-packages/flwr/server/server.py\u001b[0m in \u001b[0;36mfit\u001b[0;34m(self, num_rounds, timeout)\u001b[0m\n\u001b[1;32m     92\u001b[0m         \u001b[0mlog\u001b[0m\u001b[0;34m(\u001b[0m\u001b[0mINFO\u001b[0m\u001b[0;34m,\u001b[0m \u001b[0;34m\"[INIT]\"\u001b[0m\u001b[0;34m)\u001b[0m\u001b[0;34m\u001b[0m\u001b[0;34m\u001b[0m\u001b[0m\n\u001b[0;32m---> 93\u001b[0;31m         \u001b[0mself\u001b[0m\u001b[0;34m.\u001b[0m\u001b[0mparameters\u001b[0m \u001b[0;34m=\u001b[0m \u001b[0mself\u001b[0m\u001b[0;34m.\u001b[0m\u001b[0m_get_initial_parameters\u001b[0m\u001b[0;34m(\u001b[0m\u001b[0mserver_round\u001b[0m\u001b[0;34m=\u001b[0m\u001b[0;36m0\u001b[0m\u001b[0;34m,\u001b[0m \u001b[0mtimeout\u001b[0m\u001b[0;34m=\u001b[0m\u001b[0mtimeout\u001b[0m\u001b[0;34m)\u001b[0m\u001b[0;34m\u001b[0m\u001b[0;34m\u001b[0m\u001b[0m\n\u001b[0m\u001b[1;32m     94\u001b[0m         \u001b[0mlog\u001b[0m\u001b[0;34m(\u001b[0m\u001b[0mINFO\u001b[0m\u001b[0;34m,\u001b[0m \u001b[0;34m\"Starting evaluation of initial global parameters\"\u001b[0m\u001b[0;34m)\u001b[0m\u001b[0;34m\u001b[0m\u001b[0;34m\u001b[0m\u001b[0m\n",
            "\u001b[0;32m/usr/local/lib/python3.11/dist-packages/flwr/server/server.py\u001b[0m in \u001b[0;36m_get_initial_parameters\u001b[0;34m(self, server_round, timeout)\u001b[0m\n\u001b[1;32m    283\u001b[0m         \u001b[0mins\u001b[0m \u001b[0;34m=\u001b[0m \u001b[0mGetParametersIns\u001b[0m\u001b[0;34m(\u001b[0m\u001b[0mconfig\u001b[0m\u001b[0;34m=\u001b[0m\u001b[0;34m{\u001b[0m\u001b[0;34m}\u001b[0m\u001b[0;34m)\u001b[0m\u001b[0;34m\u001b[0m\u001b[0;34m\u001b[0m\u001b[0m\n\u001b[0;32m--> 284\u001b[0;31m         get_parameters_res = random_client.get_parameters(\n\u001b[0m\u001b[1;32m    285\u001b[0m             \u001b[0mins\u001b[0m\u001b[0;34m=\u001b[0m\u001b[0mins\u001b[0m\u001b[0;34m,\u001b[0m \u001b[0mtimeout\u001b[0m\u001b[0;34m=\u001b[0m\u001b[0mtimeout\u001b[0m\u001b[0;34m,\u001b[0m \u001b[0mgroup_id\u001b[0m\u001b[0;34m=\u001b[0m\u001b[0mserver_round\u001b[0m\u001b[0;34m\u001b[0m\u001b[0;34m\u001b[0m\u001b[0m\n",
            "\u001b[0;32m/usr/local/lib/python3.11/dist-packages/flwr/simulation/ray_transport/ray_client_proxy.py\u001b[0m in \u001b[0;36mget_parameters\u001b[0;34m(self, ins, timeout, group_id)\u001b[0m\n\u001b[1;32m    169\u001b[0m \u001b[0;34m\u001b[0m\u001b[0m\n\u001b[0;32m--> 170\u001b[0;31m         \u001b[0mmessage_out\u001b[0m \u001b[0;34m=\u001b[0m \u001b[0mself\u001b[0m\u001b[0;34m.\u001b[0m\u001b[0m_submit_job\u001b[0m\u001b[0;34m(\u001b[0m\u001b[0mmessage\u001b[0m\u001b[0;34m,\u001b[0m \u001b[0mtimeout\u001b[0m\u001b[0;34m)\u001b[0m\u001b[0;34m\u001b[0m\u001b[0;34m\u001b[0m\u001b[0m\n\u001b[0m\u001b[1;32m    171\u001b[0m \u001b[0;34m\u001b[0m\u001b[0m\n",
            "\u001b[0;32m/usr/local/lib/python3.11/dist-packages/flwr/simulation/ray_transport/ray_client_proxy.py\u001b[0m in \u001b[0;36m_submit_job\u001b[0;34m(self, message, timeout)\u001b[0m\n\u001b[1;32m    108\u001b[0m             \u001b[0mlog\u001b[0m\u001b[0;34m(\u001b[0m\u001b[0mERROR\u001b[0m\u001b[0;34m,\u001b[0m \u001b[0mex\u001b[0m\u001b[0;34m)\u001b[0m\u001b[0;34m\u001b[0m\u001b[0;34m\u001b[0m\u001b[0m\n\u001b[0;32m--> 109\u001b[0;31m             \u001b[0;32mraise\u001b[0m \u001b[0mex\u001b[0m\u001b[0;34m\u001b[0m\u001b[0;34m\u001b[0m\u001b[0m\n\u001b[0m\u001b[1;32m    110\u001b[0m \u001b[0;34m\u001b[0m\u001b[0m\n",
            "\u001b[0;32m/usr/local/lib/python3.11/dist-packages/flwr/simulation/ray_transport/ray_client_proxy.py\u001b[0m in \u001b[0;36m_submit_job\u001b[0;34m(self, message, timeout)\u001b[0m\n\u001b[1;32m     94\u001b[0m             )\n\u001b[0;32m---> 95\u001b[0;31m             out_mssg, updated_context = self.actor_pool.get_client_result(\n\u001b[0m\u001b[1;32m     96\u001b[0m                 \u001b[0mpartition_id_str\u001b[0m\u001b[0;34m,\u001b[0m \u001b[0mtimeout\u001b[0m\u001b[0;34m\u001b[0m\u001b[0;34m\u001b[0m\u001b[0m\n",
            "\u001b[0;32m/usr/local/lib/python3.11/dist-packages/flwr/simulation/ray_transport/ray_actor.py\u001b[0m in \u001b[0;36mget_client_result\u001b[0;34m(self, cid, timeout)\u001b[0m\n\u001b[1;32m    400\u001b[0m         \u001b[0;31m# Return both result from tasks and (potentially) updated run context\u001b[0m\u001b[0;34m\u001b[0m\u001b[0;34m\u001b[0m\u001b[0m\n\u001b[0;32m--> 401\u001b[0;31m         \u001b[0;32mreturn\u001b[0m \u001b[0mself\u001b[0m\u001b[0;34m.\u001b[0m\u001b[0m_fetch_future_result\u001b[0m\u001b[0;34m(\u001b[0m\u001b[0mcid\u001b[0m\u001b[0;34m)\u001b[0m\u001b[0;34m\u001b[0m\u001b[0;34m\u001b[0m\u001b[0m\n\u001b[0m\u001b[1;32m    402\u001b[0m \u001b[0;34m\u001b[0m\u001b[0m\n",
            "\u001b[0;32m/usr/local/lib/python3.11/dist-packages/flwr/simulation/ray_transport/ray_actor.py\u001b[0m in \u001b[0;36m_fetch_future_result\u001b[0;34m(self, cid)\u001b[0m\n\u001b[1;32m    281\u001b[0m             \u001b[0mfuture\u001b[0m\u001b[0;34m:\u001b[0m \u001b[0mObjectRef\u001b[0m\u001b[0;34m[\u001b[0m\u001b[0mAny\u001b[0m\u001b[0;34m]\u001b[0m \u001b[0;34m=\u001b[0m \u001b[0mself\u001b[0m\u001b[0;34m.\u001b[0m\u001b[0m_cid_to_future\u001b[0m\u001b[0;34m[\u001b[0m\u001b[0mcid\u001b[0m\u001b[0;34m]\u001b[0m\u001b[0;34m[\u001b[0m\u001b[0;34m\"future\"\u001b[0m\u001b[0;34m]\u001b[0m  \u001b[0;31m# type: ignore\u001b[0m\u001b[0;34m\u001b[0m\u001b[0;34m\u001b[0m\u001b[0m\n\u001b[0;32m--> 282\u001b[0;31m             res_cid, out_mssg, updated_context = ray.get(\n\u001b[0m\u001b[1;32m    283\u001b[0m                 \u001b[0mfuture\u001b[0m\u001b[0;34m\u001b[0m\u001b[0;34m\u001b[0m\u001b[0m\n",
            "\u001b[0;32m/usr/local/lib/python3.11/dist-packages/ray/_private/auto_init_hook.py\u001b[0m in \u001b[0;36mauto_init_wrapper\u001b[0;34m(*args, **kwargs)\u001b[0m\n\u001b[1;32m     20\u001b[0m         \u001b[0mauto_init_ray\u001b[0m\u001b[0;34m(\u001b[0m\u001b[0;34m)\u001b[0m\u001b[0;34m\u001b[0m\u001b[0;34m\u001b[0m\u001b[0m\n\u001b[0;32m---> 21\u001b[0;31m         \u001b[0;32mreturn\u001b[0m \u001b[0mfn\u001b[0m\u001b[0;34m(\u001b[0m\u001b[0;34m*\u001b[0m\u001b[0margs\u001b[0m\u001b[0;34m,\u001b[0m \u001b[0;34m**\u001b[0m\u001b[0mkwargs\u001b[0m\u001b[0;34m)\u001b[0m\u001b[0;34m\u001b[0m\u001b[0;34m\u001b[0m\u001b[0m\n\u001b[0m\u001b[1;32m     22\u001b[0m \u001b[0;34m\u001b[0m\u001b[0m\n",
            "\u001b[0;32m/usr/local/lib/python3.11/dist-packages/ray/_private/client_mode_hook.py\u001b[0m in \u001b[0;36mwrapper\u001b[0;34m(*args, **kwargs)\u001b[0m\n\u001b[1;32m    102\u001b[0m                 \u001b[0;32mreturn\u001b[0m \u001b[0mgetattr\u001b[0m\u001b[0;34m(\u001b[0m\u001b[0mray\u001b[0m\u001b[0;34m,\u001b[0m \u001b[0mfunc\u001b[0m\u001b[0;34m.\u001b[0m\u001b[0m__name__\u001b[0m\u001b[0;34m)\u001b[0m\u001b[0;34m(\u001b[0m\u001b[0;34m*\u001b[0m\u001b[0margs\u001b[0m\u001b[0;34m,\u001b[0m \u001b[0;34m**\u001b[0m\u001b[0mkwargs\u001b[0m\u001b[0;34m)\u001b[0m\u001b[0;34m\u001b[0m\u001b[0;34m\u001b[0m\u001b[0m\n\u001b[0;32m--> 103\u001b[0;31m         \u001b[0;32mreturn\u001b[0m \u001b[0mfunc\u001b[0m\u001b[0;34m(\u001b[0m\u001b[0;34m*\u001b[0m\u001b[0margs\u001b[0m\u001b[0;34m,\u001b[0m \u001b[0;34m**\u001b[0m\u001b[0mkwargs\u001b[0m\u001b[0;34m)\u001b[0m\u001b[0;34m\u001b[0m\u001b[0;34m\u001b[0m\u001b[0m\n\u001b[0m\u001b[1;32m    104\u001b[0m \u001b[0;34m\u001b[0m\u001b[0m\n",
            "\u001b[0;32m/usr/local/lib/python3.11/dist-packages/ray/_private/worker.py\u001b[0m in \u001b[0;36mget\u001b[0;34m(object_refs, timeout)\u001b[0m\n\u001b[1;32m   2638\u001b[0m         \u001b[0;31m# TODO(ujvl): Consider how to allow user to retrieve the ready objects.\u001b[0m\u001b[0;34m\u001b[0m\u001b[0;34m\u001b[0m\u001b[0m\n\u001b[0;32m-> 2639\u001b[0;31m         \u001b[0mvalues\u001b[0m\u001b[0;34m,\u001b[0m \u001b[0mdebugger_breakpoint\u001b[0m \u001b[0;34m=\u001b[0m \u001b[0mworker\u001b[0m\u001b[0;34m.\u001b[0m\u001b[0mget_objects\u001b[0m\u001b[0;34m(\u001b[0m\u001b[0mobject_refs\u001b[0m\u001b[0;34m,\u001b[0m \u001b[0mtimeout\u001b[0m\u001b[0;34m=\u001b[0m\u001b[0mtimeout\u001b[0m\u001b[0;34m)\u001b[0m\u001b[0;34m\u001b[0m\u001b[0;34m\u001b[0m\u001b[0m\n\u001b[0m\u001b[1;32m   2640\u001b[0m         \u001b[0;32mfor\u001b[0m \u001b[0mi\u001b[0m\u001b[0;34m,\u001b[0m \u001b[0mvalue\u001b[0m \u001b[0;32min\u001b[0m \u001b[0menumerate\u001b[0m\u001b[0;34m(\u001b[0m\u001b[0mvalues\u001b[0m\u001b[0;34m)\u001b[0m\u001b[0;34m:\u001b[0m\u001b[0;34m\u001b[0m\u001b[0;34m\u001b[0m\u001b[0m\n",
            "\u001b[0;32m/usr/local/lib/python3.11/dist-packages/ray/_private/worker.py\u001b[0m in \u001b[0;36mget_objects\u001b[0;34m(self, object_refs, timeout)\u001b[0m\n\u001b[1;32m    863\u001b[0m                 \u001b[0;32mif\u001b[0m \u001b[0misinstance\u001b[0m\u001b[0;34m(\u001b[0m\u001b[0mvalue\u001b[0m\u001b[0;34m,\u001b[0m \u001b[0mRayTaskError\u001b[0m\u001b[0;34m)\u001b[0m\u001b[0;34m:\u001b[0m\u001b[0;34m\u001b[0m\u001b[0;34m\u001b[0m\u001b[0m\n\u001b[0;32m--> 864\u001b[0;31m                     \u001b[0;32mraise\u001b[0m \u001b[0mvalue\u001b[0m\u001b[0;34m.\u001b[0m\u001b[0mas_instanceof_cause\u001b[0m\u001b[0;34m(\u001b[0m\u001b[0;34m)\u001b[0m\u001b[0;34m\u001b[0m\u001b[0;34m\u001b[0m\u001b[0m\n\u001b[0m\u001b[1;32m    865\u001b[0m                 \u001b[0;32melse\u001b[0m\u001b[0;34m:\u001b[0m\u001b[0;34m\u001b[0m\u001b[0;34m\u001b[0m\u001b[0m\n",
            "\u001b[0;31mRayTaskError(ClientAppException)\u001b[0m: \u001b[36mray::ClientAppActor.run()\u001b[39m (pid=6207, ip=172.28.0.12, actor_id=576ab0c21f20aa6b7d57e49701000000, repr=<flwr.simulation.ray_transport.ray_actor.ClientAppActor object at 0x780ddb0a55d0>)\n                  ^^^^^^^^^^^^^^^^^^^^^^^^^^^^^^^^^^^^^\n  File \"/usr/local/lib/python3.11/dist-packages/flwr/client/client_app.py\", line 144, in __call__\n    return self._call(message, context)\n           ^^^^^^^^^^^^^^^^^^^^^^^^^^^^\n  File \"/usr/local/lib/python3.11/dist-packages/flwr/client/client_app.py\", line 128, in ffn\n    out_message = handle_legacy_message_from_msgtype(\n                  ^^^^^^^^^^^^^^^^^^^^^^^^^^^^^^^^^^^\n  File \"/usr/local/lib/python3.11/dist-packages/flwr/client/message_handler/message_handler.py\", line 96, in handle_legacy_message_from_msgtype\n    client = client_fn(context)\n             ^^^^^^^^^^^^^^^^^^\n  File \"/tmp/ipython-input-38-1176517585.py\", line 7, in <lambda>\nAttributeError: 'Context' object has no attribute 'args'\n\nThe above exception was the direct cause of the following exception:\n\n\u001b[36mray::ClientAppActor.run()\u001b[39m (pid=6207, ip=172.28.0.12, actor_id=576ab0c21f20aa6b7d57e49701000000, repr=<flwr.simulation.ray_transport.ray_actor.ClientAppActor object at 0x780ddb0a55d0>)\n           ^^^^^^^^^^^^^^^^^^^^^^^^^^^^^^^^^^^^\n           ^^^^^^^^^^^^^^^^^^^^^^^^^^^^^^^\n  File \"/usr/local/lib/python3.11/dist-packages/flwr/simulation/ray_transport/ray_actor.py\", line 64, in run\n    raise ClientAppException(str(ex)) from ex\nflwr.client.client_app.ClientAppException: \nException ClientAppException occurred. Message: 'Context' object has no attribute 'args'",
            "\nThe above exception was the direct cause of the following exception:\n",
            "\u001b[0;31mRuntimeError\u001b[0m                              Traceback (most recent call last)",
            "\u001b[0;32m/tmp/ipython-input-38-1176517585.py\u001b[0m in \u001b[0;36m<cell line: 0>\u001b[0;34m()\u001b[0m\n\u001b[1;32m      4\u001b[0m \u001b[0mclient_id_map\u001b[0m \u001b[0;34m=\u001b[0m \u001b[0;34m{\u001b[0m\u001b[0;34mf\"client_{i}\"\u001b[0m\u001b[0;34m:\u001b[0m \u001b[0mcid\u001b[0m \u001b[0;32mfor\u001b[0m \u001b[0mi\u001b[0m\u001b[0;34m,\u001b[0m \u001b[0mcid\u001b[0m \u001b[0;32min\u001b[0m \u001b[0menumerate\u001b[0m\u001b[0;34m(\u001b[0m\u001b[0mclient_ids\u001b[0m\u001b[0;34m)\u001b[0m\u001b[0;34m}\u001b[0m\u001b[0;34m\u001b[0m\u001b[0;34m\u001b[0m\u001b[0m\n\u001b[1;32m      5\u001b[0m \u001b[0;34m\u001b[0m\u001b[0m\n\u001b[0;32m----> 6\u001b[0;31m history = fl.simulation.start_simulation(\n\u001b[0m\u001b[1;32m      7\u001b[0m     \u001b[0mclient_fn\u001b[0m\u001b[0;34m=\u001b[0m\u001b[0;32mlambda\u001b[0m \u001b[0mcontext\u001b[0m\u001b[0;34m:\u001b[0m \u001b[0mFederatedClient\u001b[0m\u001b[0;34m(\u001b[0m\u001b[0mclient_id_map\u001b[0m\u001b[0;34m[\u001b[0m\u001b[0mcontext\u001b[0m\u001b[0;34m.\u001b[0m\u001b[0margs\u001b[0m\u001b[0;34m.\u001b[0m\u001b[0mcid\u001b[0m\u001b[0;34m]\u001b[0m\u001b[0;34m)\u001b[0m\u001b[0;34m,\u001b[0m\u001b[0;34m\u001b[0m\u001b[0;34m\u001b[0m\u001b[0m\n\u001b[1;32m      8\u001b[0m     \u001b[0mnum_clients\u001b[0m\u001b[0;34m=\u001b[0m\u001b[0mlen\u001b[0m\u001b[0;34m(\u001b[0m\u001b[0mclient_ids\u001b[0m\u001b[0;34m)\u001b[0m\u001b[0;34m,\u001b[0m\u001b[0;34m\u001b[0m\u001b[0;34m\u001b[0m\u001b[0m\n",
            "\u001b[0;32m/usr/local/lib/python3.11/dist-packages/flwr/simulation/legacy_app.py\u001b[0m in \u001b[0;36mstart_simulation\u001b[0;34m(client_fn, num_clients, clients_ids, client_resources, server, config, strategy, client_manager, ray_init_args, keep_initialised, actor_type, actor_kwargs, actor_scheduling)\u001b[0m\n\u001b[1;32m    395\u001b[0m             \u001b[0mclient_resources\u001b[0m\u001b[0;34m,\u001b[0m\u001b[0;34m\u001b[0m\u001b[0;34m\u001b[0m\u001b[0m\n\u001b[1;32m    396\u001b[0m         )\n\u001b[0;32m--> 397\u001b[0;31m         \u001b[0;32mraise\u001b[0m \u001b[0mRuntimeError\u001b[0m\u001b[0;34m(\u001b[0m\u001b[0;34m\"Simulation crashed.\"\u001b[0m\u001b[0;34m)\u001b[0m \u001b[0;32mfrom\u001b[0m \u001b[0mex\u001b[0m\u001b[0;34m\u001b[0m\u001b[0;34m\u001b[0m\u001b[0m\n\u001b[0m\u001b[1;32m    398\u001b[0m \u001b[0;34m\u001b[0m\u001b[0m\n\u001b[1;32m    399\u001b[0m     \u001b[0;32mfinally\u001b[0m\u001b[0;34m:\u001b[0m\u001b[0;34m\u001b[0m\u001b[0;34m\u001b[0m\u001b[0m\n",
            "\u001b[0;31mRuntimeError\u001b[0m: Simulation crashed."
          ]
        }
      ],
      "source": [
        "from flwr.common import Context\n",
        "\n",
        "# Create a mapping from simulation client IDs to dataset client IDs\n",
        "client_id_map = {f\"client_{i}\": cid for i, cid in enumerate(client_ids)}\n",
        "\n",
        "history = fl.simulation.start_simulation(\n",
        "    client_fn=lambda context: FederatedClient(client_id_map[context.args.cid]),\n",
        "    num_clients=len(client_ids),\n",
        "    config=fl.server.ServerConfig(num_rounds=5),\n",
        "    strategy=strategy,\n",
        ")"
      ]
    },
    {
      "cell_type": "code",
      "execution_count": null,
      "id": "a8083fd2",
      "metadata": {
        "id": "a8083fd2"
      },
      "outputs": [],
      "source": [
        "# Global Accuracy Plot"
      ]
    },
    {
      "cell_type": "code",
      "execution_count": null,
      "id": "e637b2d9",
      "metadata": {
        "id": "e637b2d9"
      },
      "outputs": [],
      "source": [
        "rounds = list(range(1, len(history[\"test_accuracy\"]) + 1))\n",
        "plt.plot(rounds, history[\"test_accuracy\"], marker=\"o\")\n",
        "plt.title(\"Global Model Test Accuracy per Round\")\n",
        "plt.xlabel(\"Round\")\n",
        "plt.ylabel(\"Accuracy\")\n",
        "plt.xticks(rounds)\n",
        "plt.grid(True)\n",
        "plt.show()"
      ]
    },
    {
      "cell_type": "code",
      "execution_count": null,
      "id": "9b59c98a",
      "metadata": {
        "id": "9b59c98a"
      },
      "outputs": [],
      "source": [
        "# Classification Report & Confusion Matrix"
      ]
    },
    {
      "cell_type": "code",
      "execution_count": null,
      "id": "09f1128c",
      "metadata": {
        "id": "09f1128c"
      },
      "outputs": [],
      "source": [
        "global_model = build_model(input_shape=(len(feature_cols),))\n",
        "global_model.set_weights(final_weights)"
      ]
    },
    {
      "cell_type": "code",
      "execution_count": null,
      "id": "ddd344f7",
      "metadata": {
        "id": "ddd344f7"
      },
      "outputs": [],
      "source": [
        "y_true, y_pred = [], []"
      ]
    },
    {
      "cell_type": "code",
      "execution_count": null,
      "id": "163a4f5d",
      "metadata": {
        "id": "163a4f5d"
      },
      "outputs": [],
      "source": [
        "for cid in client_ids:\n",
        "    X_test, y_test = client_test_data[cid]\n",
        "    preds = (global_model.predict(X_test) > 0.5).astype(int).flatten()\n",
        "    y_true.extend(y_test.tolist())\n",
        "    y_pred.extend(preds.tolist())"
      ]
    },
    {
      "cell_type": "code",
      "execution_count": null,
      "id": "3967b0fc",
      "metadata": {
        "id": "3967b0fc"
      },
      "outputs": [],
      "source": [
        "print(\"\\nClassification Report:\\n\")\n",
        "print(classification_report(y_true, y_pred))"
      ]
    },
    {
      "cell_type": "code",
      "execution_count": null,
      "id": "66c41c0b",
      "metadata": {
        "id": "66c41c0b"
      },
      "outputs": [],
      "source": [
        "cm = confusion_matrix(y_true, y_pred)\n",
        "plt.figure(figsize=(5,4))\n",
        "sns.heatmap(cm, annot=True, fmt='d', cmap='Blues')\n",
        "plt.xlabel('Predicted Label')\n",
        "plt.ylabel('True Label')\n",
        "plt.title('Confusion Matrix')\n",
        "plt.show()"
      ]
    }
  ],
  "metadata": {
    "colab": {
      "provenance": []
    },
    "language_info": {
      "name": "python"
    },
    "kernelspec": {
      "name": "python3",
      "display_name": "Python 3"
    },
    "widgets": {
      "application/vnd.jupyter.widget-state+json": {
        "712620594c714e4da1e62337f1a74504": {
          "model_module": "@jupyter-widgets/controls",
          "model_name": "DropdownModel",
          "model_module_version": "1.5.0",
          "state": {
            "_dom_classes": [],
            "_model_module": "@jupyter-widgets/controls",
            "_model_module_version": "1.5.0",
            "_model_name": "DropdownModel",
            "_options_labels": [
              "Malaria",
              "Finance",
              "Healthcare",
              "IoT"
            ],
            "_view_count": null,
            "_view_module": "@jupyter-widgets/controls",
            "_view_module_version": "1.5.0",
            "_view_name": "DropdownView",
            "description": "Dataset:",
            "description_tooltip": null,
            "disabled": false,
            "index": 1,
            "layout": "IPY_MODEL_100bc72d9db04ea2ae449944cad1bcd8",
            "style": "IPY_MODEL_b69b06e64a16424f9780b2648f7b339f"
          }
        },
        "100bc72d9db04ea2ae449944cad1bcd8": {
          "model_module": "@jupyter-widgets/base",
          "model_name": "LayoutModel",
          "model_module_version": "1.2.0",
          "state": {
            "_model_module": "@jupyter-widgets/base",
            "_model_module_version": "1.2.0",
            "_model_name": "LayoutModel",
            "_view_count": null,
            "_view_module": "@jupyter-widgets/base",
            "_view_module_version": "1.2.0",
            "_view_name": "LayoutView",
            "align_content": null,
            "align_items": null,
            "align_self": null,
            "border": null,
            "bottom": null,
            "display": null,
            "flex": null,
            "flex_flow": null,
            "grid_area": null,
            "grid_auto_columns": null,
            "grid_auto_flow": null,
            "grid_auto_rows": null,
            "grid_column": null,
            "grid_gap": null,
            "grid_row": null,
            "grid_template_areas": null,
            "grid_template_columns": null,
            "grid_template_rows": null,
            "height": null,
            "justify_content": null,
            "justify_items": null,
            "left": null,
            "margin": null,
            "max_height": null,
            "max_width": null,
            "min_height": null,
            "min_width": null,
            "object_fit": null,
            "object_position": null,
            "order": null,
            "overflow": null,
            "overflow_x": null,
            "overflow_y": null,
            "padding": null,
            "right": null,
            "top": null,
            "visibility": null,
            "width": null
          }
        },
        "b69b06e64a16424f9780b2648f7b339f": {
          "model_module": "@jupyter-widgets/controls",
          "model_name": "DescriptionStyleModel",
          "model_module_version": "1.5.0",
          "state": {
            "_model_module": "@jupyter-widgets/controls",
            "_model_module_version": "1.5.0",
            "_model_name": "DescriptionStyleModel",
            "_view_count": null,
            "_view_module": "@jupyter-widgets/base",
            "_view_module_version": "1.2.0",
            "_view_name": "StyleView",
            "description_width": ""
          }
        }
      }
    }
  },
  "nbformat": 4,
  "nbformat_minor": 5
}